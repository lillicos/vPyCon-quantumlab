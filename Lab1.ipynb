{
 "cells": [
  {
   "cell_type": "markdown",
   "id": "d9af412d-70a5-44e8-aec9-3b80487938b3",
   "metadata": {
    "tags": []
   },
   "source": [
    "# Example of a simple 1 qubit circuit"
   ]
  },
  {
   "cell_type": "markdown",
   "id": "19b71bb0-404a-4030-b9b5-0865e33fcf99",
   "metadata": {},
   "source": [
    "# First Install Amazon Braket SDK"
   ]
  },
  {
   "cell_type": "code",
   "execution_count": 26,
   "id": "79e4c503-bd93-429b-a687-b76dcff94878",
   "metadata": {
    "tags": []
   },
   "outputs": [
    {
     "name": "stdout",
     "output_type": "stream",
     "text": [
      "Requirement already satisfied: amazon-braket-sdk in /home/ec2-user/anaconda3/envs/Braket/lib/python3.10/site-packages (1.58.1)\n",
      "Requirement already satisfied: amazon-braket-schemas>=1.19.1 in /home/ec2-user/anaconda3/envs/Braket/lib/python3.10/site-packages (from amazon-braket-sdk) (1.19.1.post0)\n",
      "Requirement already satisfied: amazon-braket-default-simulator>=1.19.1 in /home/ec2-user/anaconda3/envs/Braket/lib/python3.10/site-packages (from amazon-braket-sdk) (1.20.1)\n",
      "Requirement already satisfied: oqpy~=0.2.1 in /home/ec2-user/anaconda3/envs/Braket/lib/python3.10/site-packages (from amazon-braket-sdk) (0.2.1)\n",
      "Requirement already satisfied: setuptools in /home/ec2-user/anaconda3/envs/Braket/lib/python3.10/site-packages (from amazon-braket-sdk) (68.2.2)\n",
      "Requirement already satisfied: backoff in /home/ec2-user/anaconda3/envs/Braket/lib/python3.10/site-packages (from amazon-braket-sdk) (2.2.1)\n",
      "Requirement already satisfied: boltons in /home/ec2-user/anaconda3/envs/Braket/lib/python3.10/site-packages (from amazon-braket-sdk) (23.0.0)\n",
      "Requirement already satisfied: boto3>=1.28.53 in /home/ec2-user/anaconda3/envs/Braket/lib/python3.10/site-packages (from amazon-braket-sdk) (1.28.62)\n",
      "Requirement already satisfied: cloudpickle==2.2.1 in /home/ec2-user/anaconda3/envs/Braket/lib/python3.10/site-packages (from amazon-braket-sdk) (2.2.1)\n",
      "Requirement already satisfied: nest-asyncio in /home/ec2-user/anaconda3/envs/Braket/lib/python3.10/site-packages (from amazon-braket-sdk) (1.5.8)\n",
      "Requirement already satisfied: networkx in /home/ec2-user/anaconda3/envs/Braket/lib/python3.10/site-packages (from amazon-braket-sdk) (3.1)\n",
      "Requirement already satisfied: numpy in /home/ec2-user/anaconda3/envs/Braket/lib/python3.10/site-packages (from amazon-braket-sdk) (1.23.5)\n",
      "Requirement already satisfied: openpulse in /home/ec2-user/anaconda3/envs/Braket/lib/python3.10/site-packages (from amazon-braket-sdk) (0.4.2)\n",
      "Requirement already satisfied: openqasm3 in /home/ec2-user/anaconda3/envs/Braket/lib/python3.10/site-packages (from amazon-braket-sdk) (0.4.0)\n",
      "Requirement already satisfied: sympy in /home/ec2-user/anaconda3/envs/Braket/lib/python3.10/site-packages (from amazon-braket-sdk) (1.12)\n",
      "Requirement already satisfied: opt-einsum in /home/ec2-user/anaconda3/envs/Braket/lib/python3.10/site-packages (from amazon-braket-default-simulator>=1.19.1->amazon-braket-sdk) (3.3.0)\n",
      "Requirement already satisfied: pydantic<2.0,>=1.9 in /home/ec2-user/anaconda3/envs/Braket/lib/python3.10/site-packages (from amazon-braket-default-simulator>=1.19.1->amazon-braket-sdk) (1.10.13)\n",
      "Requirement already satisfied: scipy in /home/ec2-user/anaconda3/envs/Braket/lib/python3.10/site-packages (from amazon-braket-default-simulator>=1.19.1->amazon-braket-sdk) (1.11.3)\n",
      "Requirement already satisfied: antlr4-python3-runtime==4.9.2 in /home/ec2-user/anaconda3/envs/Braket/lib/python3.10/site-packages (from amazon-braket-default-simulator>=1.19.1->amazon-braket-sdk) (4.9.2)\n",
      "Requirement already satisfied: botocore<1.32.0,>=1.31.62 in /home/ec2-user/anaconda3/envs/Braket/lib/python3.10/site-packages (from boto3>=1.28.53->amazon-braket-sdk) (1.31.62)\n",
      "Requirement already satisfied: jmespath<2.0.0,>=0.7.1 in /home/ec2-user/anaconda3/envs/Braket/lib/python3.10/site-packages (from boto3>=1.28.53->amazon-braket-sdk) (1.0.1)\n",
      "Requirement already satisfied: s3transfer<0.8.0,>=0.7.0 in /home/ec2-user/anaconda3/envs/Braket/lib/python3.10/site-packages (from boto3>=1.28.53->amazon-braket-sdk) (0.7.0)\n",
      "Requirement already satisfied: mypy-extensions>=0.2.0 in /home/ec2-user/anaconda3/envs/Braket/lib/python3.10/site-packages (from oqpy~=0.2.1->amazon-braket-sdk) (1.0.0)\n",
      "Requirement already satisfied: mpmath>=0.19 in /home/ec2-user/anaconda3/envs/Braket/lib/python3.10/site-packages (from sympy->amazon-braket-sdk) (1.3.0)\n",
      "Requirement already satisfied: python-dateutil<3.0.0,>=2.1 in /home/ec2-user/anaconda3/envs/Braket/lib/python3.10/site-packages (from botocore<1.32.0,>=1.31.62->boto3>=1.28.53->amazon-braket-sdk) (2.8.2)\n",
      "Requirement already satisfied: urllib3<2.1,>=1.25.4 in /home/ec2-user/anaconda3/envs/Braket/lib/python3.10/site-packages (from botocore<1.32.0,>=1.31.62->boto3>=1.28.53->amazon-braket-sdk) (2.0.7)\n",
      "Requirement already satisfied: typing-extensions>=4.2.0 in /home/ec2-user/anaconda3/envs/Braket/lib/python3.10/site-packages (from pydantic<2.0,>=1.9->amazon-braket-default-simulator>=1.19.1->amazon-braket-sdk) (4.8.0)\n",
      "Requirement already satisfied: six>=1.5 in /home/ec2-user/anaconda3/envs/Braket/lib/python3.10/site-packages (from python-dateutil<3.0.0,>=2.1->botocore<1.32.0,>=1.31.62->boto3>=1.28.53->amazon-braket-sdk) (1.16.0)\n",
      "Note: you may need to restart the kernel to use updated packages.\n"
     ]
    }
   ],
   "source": [
    "pip install amazon-braket-sdk"
   ]
  },
  {
   "cell_type": "code",
   "execution_count": 27,
   "id": "6bf3afd9-daab-4521-a163-123214784fd2",
   "metadata": {
    "tags": []
   },
   "outputs": [],
   "source": [
    "import boto3\n",
    "from braket.aws import AwsDevice\n",
    "from braket.circuits import Circuit\n",
    "import matplotlib.pyplot as plt\n",
    "%matplotlib inline"
   ]
  },
  {
   "cell_type": "markdown",
   "id": "484bd986-c059-4915-a1ff-61d7c4c757a3",
   "metadata": {},
   "source": [
    "# Define the S3 bucket and folder which contains the results of the various quantum circuits "
   ]
  },
  {
   "cell_type": "code",
   "execution_count": 20,
   "id": "fa05d8f0-4428-4f2c-abae-8ef19304b98c",
   "metadata": {
    "tags": []
   },
   "outputs": [],
   "source": [
    "quantumbucket = \"amazon-braket-us-east-1-614646524231\"\n",
    "foldername = \"tasks/\"\n",
    "s3_folder=(quantumbucket,foldername)"
   ]
  },
  {
   "cell_type": "markdown",
   "id": "093ef762-ec6b-4da1-889b-d5dc4e966f1f",
   "metadata": {},
   "source": [
    "# Choose the local simulator provided by Amazon Braket"
   ]
  },
  {
   "cell_type": "markdown",
   "id": "6c7371a3-e72c-46c0-aecb-84d84e52aacc",
   "metadata": {},
   "source": [
    "Here is a list of all supported Braket devices : https://docs.aws.amazon.com/braket/latest/developerguide/braket-devices.html"
   ]
  },
  {
   "cell_type": "code",
   "execution_count": 21,
   "id": "83a19666-8b58-431a-a3e8-887c48f9bec1",
   "metadata": {
    "tags": []
   },
   "outputs": [],
   "source": [
    "device = AwsDevice(\"arn:aws:braket:::device/quantum-simulator/amazon/sv1\")"
   ]
  },
  {
   "cell_type": "markdown",
   "id": "02b941dd-6ddd-4c5e-ba38-b5415b460993",
   "metadata": {},
   "source": [
    "# Create a quantum circuit with one qubit"
   ]
  },
  {
   "cell_type": "code",
   "execution_count": 22,
   "id": "44c3d8e0-1e30-416c-84d5-c50a52589f6e",
   "metadata": {
    "tags": []
   },
   "outputs": [
    {
     "name": "stdout",
     "output_type": "stream",
     "text": [
      "T  : |0|\n",
      "        \n",
      "q0 : -H-\n",
      "\n",
      "T  : |0|\n"
     ]
    }
   ],
   "source": [
    "# Apply Hadamard gate to create a superposition\n",
    "circuit = Circuit().h(0)\n",
    "\n",
    "# Print out the circuit\n",
    "print(circuit)"
   ]
  },
  {
   "cell_type": "markdown",
   "id": "21374303-bbdc-42b1-bf53-2527f0820cd7",
   "metadata": {},
   "source": [
    "# Run the circuit on the chosen device"
   ]
  },
  {
   "cell_type": "markdown",
   "id": "eb80531e-ca35-410b-8234-9d5971f77e5a",
   "metadata": {},
   "source": []
  },
  {
   "cell_type": "code",
   "execution_count": 23,
   "id": "31d624a1-244c-400f-ad4a-046b29ec9710",
   "metadata": {
    "tags": []
   },
   "outputs": [],
   "source": [
    "result = device.run(circuit, s3_folder, shots=1000).result()"
   ]
  },
  {
   "cell_type": "code",
   "execution_count": 24,
   "id": "f82500b8-494c-4fd3-8f52-1a35946df2bb",
   "metadata": {
    "tags": []
   },
   "outputs": [
    {
     "name": "stdout",
     "output_type": "stream",
     "text": [
      "Counts: Counter({'1': 522, '0': 478})\n"
     ]
    }
   ],
   "source": [
    "# Print out the result\n",
    "counts = result.measurement_counts\n",
    "print(f\"Counts: {counts}\")"
   ]
  },
  {
   "cell_type": "markdown",
   "id": "0f910336-0fce-4221-b1f4-0f35e709f884",
   "metadata": {},
   "source": [
    "# Use matplotlib to illustrate the probabilities of each qubit state"
   ]
  },
  {
   "cell_type": "code",
   "execution_count": 29,
   "id": "dd4053a7-f741-46af-9d56-02c5c2ce9270",
   "metadata": {
    "tags": []
   },
   "outputs": [
    {
     "data": {
      "image/png": "[encoded data removed]",
      "text/plain": [
       "<Figure size 640x480 with 1 Axes>"
      ]
     },
     "metadata": {},
     "output_type": "display_data"
    }
   ],
   "source": [
    "# plot using Counter\n",
    "plt.bar(counts.keys(), counts.values());\n",
    "plt.xlabel('qubit state');\n",
    "plt.ylabel('counts');"
   ]
  },
  {
   "cell_type": "code",
   "execution_count": null,
   "id": "6d3a1f18-25a8-443d-a040-d9a133a79965",
   "metadata": {},
   "outputs": [],
   "source": []
  }
 ],
 "metadata": {
  "kernelspec": {
   "display_name": "conda_braket",
   "language": "python",
   "name": "conda_braket"
  },
  "language_info": {
   "codemirror_mode": {
    "name": "ipython",
    "version": 3
   },
   "file_extension": ".py",
   "mimetype": "text/x-python",
   "name": "python",
   "nbconvert_exporter": "python",
   "pygments_lexer": "ipython3",
   "version": "3.10.12"
  }
 },
 "nbformat": 4,
 "nbformat_minor": 5
}
