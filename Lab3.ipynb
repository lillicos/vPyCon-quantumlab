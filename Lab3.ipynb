{
 "cells": [
  {
   "cell_type": "markdown",
   "id": "badffe1f-2658-432e-98ed-3748a72427bb",
   "metadata": {},
   "source": [
    "# An example use case : a hybrid quantum-classical machine learning model\n",
    "\n",
    "-  In this example a quantum circuit is used to generate features, which are then fed into a classical machine learning model for training and prediction."
   ]
  },
  {
   "cell_type": "markdown",
   "id": "168b9ec5-47ec-4011-9261-b4070b8090ab",
   "metadata": {},
   "source": [
    "# Importing the necessary libraries"
   ]
  },
  {
   "cell_type": "code",
   "execution_count": 1,
   "id": "bd5064d1-fac9-4a79-8b89-cc808a109203",
   "metadata": {
    "tags": []
   },
   "outputs": [
    {
     "name": "stdout",
     "output_type": "stream",
     "text": [
      "Requirement already satisfied: amazon-braket-sdk in /home/ec2-user/anaconda3/envs/Braket/lib/python3.10/site-packages (1.58.1)\n",
      "Requirement already satisfied: amazon-braket-schemas>=1.19.1 in /home/ec2-user/anaconda3/envs/Braket/lib/python3.10/site-packages (from amazon-braket-sdk) (1.19.1.post0)\n",
      "Requirement already satisfied: amazon-braket-default-simulator>=1.19.1 in /home/ec2-user/anaconda3/envs/Braket/lib/python3.10/site-packages (from amazon-braket-sdk) (1.20.1)\n",
      "Requirement already satisfied: oqpy~=0.2.1 in /home/ec2-user/anaconda3/envs/Braket/lib/python3.10/site-packages (from amazon-braket-sdk) (0.2.1)\n",
      "Requirement already satisfied: setuptools in /home/ec2-user/anaconda3/envs/Braket/lib/python3.10/site-packages (from amazon-braket-sdk) (68.2.2)\n",
      "Requirement already satisfied: backoff in /home/ec2-user/anaconda3/envs/Braket/lib/python3.10/site-packages (from amazon-braket-sdk) (2.2.1)\n",
      "Requirement already satisfied: boltons in /home/ec2-user/anaconda3/envs/Braket/lib/python3.10/site-packages (from amazon-braket-sdk) (23.0.0)\n",
      "Requirement already satisfied: boto3>=1.28.53 in /home/ec2-user/anaconda3/envs/Braket/lib/python3.10/site-packages (from amazon-braket-sdk) (1.28.62)\n",
      "Requirement already satisfied: cloudpickle==2.2.1 in /home/ec2-user/anaconda3/envs/Braket/lib/python3.10/site-packages (from amazon-braket-sdk) (2.2.1)\n",
      "Requirement already satisfied: nest-asyncio in /home/ec2-user/anaconda3/envs/Braket/lib/python3.10/site-packages (from amazon-braket-sdk) (1.5.8)\n",
      "Requirement already satisfied: networkx in /home/ec2-user/anaconda3/envs/Braket/lib/python3.10/site-packages (from amazon-braket-sdk) (3.1)\n",
      "Requirement already satisfied: numpy in /home/ec2-user/anaconda3/envs/Braket/lib/python3.10/site-packages (from amazon-braket-sdk) (1.23.5)\n",
      "Requirement already satisfied: openpulse in /home/ec2-user/anaconda3/envs/Braket/lib/python3.10/site-packages (from amazon-braket-sdk) (0.4.2)\n",
      "Requirement already satisfied: openqasm3 in /home/ec2-user/anaconda3/envs/Braket/lib/python3.10/site-packages (from amazon-braket-sdk) (0.4.0)\n",
      "Requirement already satisfied: sympy in /home/ec2-user/anaconda3/envs/Braket/lib/python3.10/site-packages (from amazon-braket-sdk) (1.12)\n",
      "Requirement already satisfied: opt-einsum in /home/ec2-user/anaconda3/envs/Braket/lib/python3.10/site-packages (from amazon-braket-default-simulator>=1.19.1->amazon-braket-sdk) (3.3.0)\n",
      "Requirement already satisfied: pydantic<2.0,>=1.9 in /home/ec2-user/anaconda3/envs/Braket/lib/python3.10/site-packages (from amazon-braket-default-simulator>=1.19.1->amazon-braket-sdk) (1.10.13)\n",
      "Requirement already satisfied: scipy in /home/ec2-user/anaconda3/envs/Braket/lib/python3.10/site-packages (from amazon-braket-default-simulator>=1.19.1->amazon-braket-sdk) (1.11.3)\n",
      "Requirement already satisfied: antlr4-python3-runtime==4.9.2 in /home/ec2-user/anaconda3/envs/Braket/lib/python3.10/site-packages (from amazon-braket-default-simulator>=1.19.1->amazon-braket-sdk) (4.9.2)\n",
      "Requirement already satisfied: botocore<1.32.0,>=1.31.62 in /home/ec2-user/anaconda3/envs/Braket/lib/python3.10/site-packages (from boto3>=1.28.53->amazon-braket-sdk) (1.31.62)\n",
      "Requirement already satisfied: jmespath<2.0.0,>=0.7.1 in /home/ec2-user/anaconda3/envs/Braket/lib/python3.10/site-packages (from boto3>=1.28.53->amazon-braket-sdk) (1.0.1)\n",
      "Requirement already satisfied: s3transfer<0.8.0,>=0.7.0 in /home/ec2-user/anaconda3/envs/Braket/lib/python3.10/site-packages (from boto3>=1.28.53->amazon-braket-sdk) (0.7.0)\n",
      "Requirement already satisfied: mypy-extensions>=0.2.0 in /home/ec2-user/anaconda3/envs/Braket/lib/python3.10/site-packages (from oqpy~=0.2.1->amazon-braket-sdk) (1.0.0)\n",
      "Requirement already satisfied: mpmath>=0.19 in /home/ec2-user/anaconda3/envs/Braket/lib/python3.10/site-packages (from sympy->amazon-braket-sdk) (1.3.0)\n",
      "Requirement already satisfied: python-dateutil<3.0.0,>=2.1 in /home/ec2-user/anaconda3/envs/Braket/lib/python3.10/site-packages (from botocore<1.32.0,>=1.31.62->boto3>=1.28.53->amazon-braket-sdk) (2.8.2)\n",
      "Requirement already satisfied: urllib3<2.1,>=1.25.4 in /home/ec2-user/anaconda3/envs/Braket/lib/python3.10/site-packages (from botocore<1.32.0,>=1.31.62->boto3>=1.28.53->amazon-braket-sdk) (2.0.7)\n",
      "Requirement already satisfied: typing-extensions>=4.2.0 in /home/ec2-user/anaconda3/envs/Braket/lib/python3.10/site-packages (from pydantic<2.0,>=1.9->amazon-braket-default-simulator>=1.19.1->amazon-braket-sdk) (4.8.0)\n",
      "Requirement already satisfied: six>=1.5 in /home/ec2-user/anaconda3/envs/Braket/lib/python3.10/site-packages (from python-dateutil<3.0.0,>=2.1->botocore<1.32.0,>=1.31.62->boto3>=1.28.53->amazon-braket-sdk) (1.16.0)\n",
      "Note: you may need to restart the kernel to use updated packages.\n"
     ]
    }
   ],
   "source": [
    "pip install amazon-braket-sdk"
   ]
  },
  {
   "cell_type": "code",
   "execution_count": 2,
   "id": "8017e996-b864-4e61-a3c8-47a4fbbf32ec",
   "metadata": {
    "tags": []
   },
   "outputs": [
    {
     "name": "stdout",
     "output_type": "stream",
     "text": [
      "Requirement already satisfied: scikit-learn in /home/ec2-user/anaconda3/envs/Braket/lib/python3.10/site-packages (1.3.1)\n",
      "Requirement already satisfied: numpy<2.0,>=1.17.3 in /home/ec2-user/anaconda3/envs/Braket/lib/python3.10/site-packages (from scikit-learn) (1.23.5)\n",
      "Requirement already satisfied: scipy>=1.5.0 in /home/ec2-user/anaconda3/envs/Braket/lib/python3.10/site-packages (from scikit-learn) (1.11.3)\n",
      "Requirement already satisfied: joblib>=1.1.1 in /home/ec2-user/anaconda3/envs/Braket/lib/python3.10/site-packages (from scikit-learn) (1.3.2)\n",
      "Requirement already satisfied: threadpoolctl>=2.0.0 in /home/ec2-user/anaconda3/envs/Braket/lib/python3.10/site-packages (from scikit-learn) (3.2.0)\n",
      "Note: you may need to restart the kernel to use updated packages.\n"
     ]
    }
   ],
   "source": [
    "pip install scikit-learn"
   ]
  },
  {
   "cell_type": "code",
   "execution_count": 3,
   "id": "4aa6da83-fa25-420c-973f-a3c12a57b85c",
   "metadata": {
    "tags": []
   },
   "outputs": [
    {
     "name": "stdout",
     "output_type": "stream",
     "text": [
      "Requirement already satisfied: numpy in /home/ec2-user/anaconda3/envs/Braket/lib/python3.10/site-packages (1.23.5)\n",
      "Note: you may need to restart the kernel to use updated packages.\n"
     ]
    }
   ],
   "source": [
    "pip install numpy"
   ]
  },
  {
   "cell_type": "code",
   "execution_count": 4,
   "id": "97432604-caec-4d55-861b-aaf677c21a74",
   "metadata": {
    "tags": []
   },
   "outputs": [],
   "source": [
    "import matplotlib.pyplot as plt\n",
    "import numpy as np\n",
    "from sklearn import datasets\n",
    "from sklearn.model_selection import train_test_split\n",
    "from sklearn.preprocessing import StandardScaler\n",
    "from sklearn.svm import SVC\n",
    "from braket.aws import AwsDevice\n",
    "from braket.circuits import Circuit"
   ]
  },
  {
   "cell_type": "markdown",
   "id": "d1ca4b19-e45b-4a8f-afc8-b7dd4be03bd0",
   "metadata": {},
   "source": [
    "# Define the S3 bucket and folder which contains the results of the various quantum circuits "
   ]
  },
  {
   "cell_type": "code",
   "execution_count": 5,
   "id": "3b659a25-fb88-41a2-801c-d1783f84b941",
   "metadata": {
    "tags": []
   },
   "outputs": [],
   "source": [
    "quantumbucket = \"amazon-braket-us-east-1-614646524231\"\n",
    "foldername = \"tasks/\"\n",
    "s3_folder=(quantumbucket,foldername)"
   ]
  },
  {
   "cell_type": "markdown",
   "id": "94483fed-f1f3-4e33-8d97-88d442965188",
   "metadata": {},
   "source": [
    "# Choose the local simulator provided by Amazon Braket"
   ]
  },
  {
   "cell_type": "markdown",
   "id": "f38cddc8-7c5f-4321-88f3-2e1a4c3eabf7",
   "metadata": {
    "tags": []
   },
   "source": [
    "Here is a list of all supported Braket devices : https://docs.aws.amazon.com/braket/latest/developerguide/braket-devices.html"
   ]
  },
  {
   "cell_type": "code",
   "execution_count": 6,
   "id": "4d62ef6a-c300-48a4-b443-a84956f4830b",
   "metadata": {
    "tags": []
   },
   "outputs": [],
   "source": [
    "device = AwsDevice(\"arn:aws:braket:::device/quantum-simulator/amazon/sv1\")"
   ]
  },
  {
   "cell_type": "markdown",
   "id": "ea15469d-0b0a-44d0-b3c6-e3ce33ca8f8e",
   "metadata": {},
   "source": [
    "# Load in dataset\n",
    "\n",
    "- The iris dataset is a dataset containing 150 samples of the iris flower. \n",
    "- Each sample has 4 features (sepal length, sepal width, petal length, petal width)\n",
    "- The dataset contains 3 species of the iris flower where each sample is labelled to be one of the 3(Iris-setosa, Iris-versicolor, Iris-virginica)"
   ]
  },
  {
   "cell_type": "code",
   "execution_count": 7,
   "id": "cb10a34a-b00d-402c-861c-e322a47b3ac7",
   "metadata": {
    "tags": []
   },
   "outputs": [],
   "source": [
    "iris = datasets.load_iris()\n",
    "# Only take the first two features for simplicity\n",
    "X = iris.data[:, :2]\n",
    "# Binary classification: 0 if setosa species, 1 otherwise\n",
    "y = np.where(iris.target == 0, 0, 1) "
   ]
  },
  {
   "cell_type": "markdown",
   "id": "9d712229-ac4c-4416-9e59-9d1d8aa84a4b",
   "metadata": {
    "tags": []
   },
   "source": [
    "# Split dataset into training set and test set\n",
    "- Only the first 10 samples are used for training and testing so as to save on time\n",
    "- 70% (0.7) of the dataset is used for training and 30% (0.3) of the dataset is used for testing"
   ]
  },
  {
   "cell_type": "code",
   "execution_count": 8,
   "id": "9f4f9169-95c6-4e8f-83eb-7dceff3a792b",
   "metadata": {
    "tags": []
   },
   "outputs": [],
   "source": [
    "X_train, X_test, y_train, y_test = train_test_split(X, y, test_size=0.3)\n",
    "X_train = X_train[:10]  \n",
    "y_train = y_train[:10]\n",
    "X_test = X_test[:10] \n",
    "y_test = y_test[:10]"
   ]
  },
  {
   "cell_type": "markdown",
   "id": "09f92517-9f5d-4c6c-a35b-79bcc913f577",
   "metadata": {},
   "source": [
    "# Standardize features\n",
    "\n",
    "- Aligning the features of the training and testing sets to have a mean of 0 and standard deviation of 1"
   ]
  },
  {
   "cell_type": "code",
   "execution_count": 9,
   "id": "820a2886-1858-4208-b2b5-53142fab51ee",
   "metadata": {
    "tags": []
   },
   "outputs": [],
   "source": [
    "sc = StandardScaler().fit(X_train)\n",
    "X_train_std = sc.transform(X_train)\n",
    "X_test_std = sc.transform(X_test)"
   ]
  },
  {
   "cell_type": "markdown",
   "id": "b74041e5-589c-4b4c-821a-1b4c0d44993a",
   "metadata": {},
   "source": [
    "# Quantum feature map\n",
    "- The function encodes classical data into quantum states which can be processed by a quantum computer\n",
    "- A quantum circuit is generated, it can be broken down as follows:\n",
    "- \".ry(0, x[0])\" --> Rotate qubit 0 around the Y-axis by an angle of x[0] -> Bloch sphere rotation\n",
    "- \".ry(1, x[1])\" --> Rotate qubit 1 around the Y-axis by an angle of x[1] -> Bloch sphere rotation\n",
    "- \".cnot(0, 1)\" --> Apply CNOT gate to qubits 0 and 1, introducing entanglement between qubits 0 and 1, creating a correlation between their states\n",
    "- \".ry(1, x[0]+x[1])\" --> Rotates qubit 1 around the Y-axis by an angle of x[0] + x[1] (or the sum of the 2 features of the data point x) --> Bloch sphere rotation\n"
   ]
  },
  {
   "cell_type": "code",
   "execution_count": 10,
   "id": "98049ab0-bf64-4e70-8410-e561541158fd",
   "metadata": {
    "tags": []
   },
   "outputs": [],
   "source": [
    "def quantum_feature_map(x):\n",
    "    # Create a  quantum circuit\n",
    "    circuit = Circuit().ry(0, x[0]).ry(1, x[1]).cnot(0, 1).ry(1, x[0]+x[1])\n",
    "    task = device.run(circuit, s3_folder, shots=1000)\n",
    "    result = task.result()\n",
    "    counts = result.measurement_counts\n",
    "    # Use the probabilities of the measured states as features\n",
    "    return [counts.get('0', 0)/1000, counts.get('1', 0)/1000]\n"
   ]
  },
  {
   "cell_type": "markdown",
   "id": "bde0fddf-7b3c-400b-98e9-32a6e5a82bac",
   "metadata": {},
   "source": [
    "# Transform data using quantum feature map\n",
    "\n",
    "- Call the quantum_feature_map function to convert the standardised classical datasets into quantum training and test datasets"
   ]
  },
  {
   "cell_type": "code",
   "execution_count": 11,
   "id": "6a4c8e6d-c832-4a51-9299-38333e0344e1",
   "metadata": {
    "tags": []
   },
   "outputs": [],
   "source": [
    "X_train_quantum = np.array([quantum_feature_map(x) for x in X_train_std])\n",
    "X_test_quantum = np.array([quantum_feature_map(x) for x in X_test_std])"
   ]
  },
  {
   "cell_type": "markdown",
   "id": "1b1c5230-eb8b-490a-90e2-e245d5c444a3",
   "metadata": {},
   "source": [
    "# Train a classical SVM classifier\n",
    "\n",
    "- The Support Vector Machine (SVM) machine learning algorithm is widely used for classification (as in this example where the dataset is classified into binary data, i.e 0 for setosa species and 1 otherwise) and regression tasks.\n",
    "- The SVM algorithm makes decisions by finding the hyperplane (in 2D case a line, 3D case a plane and so on) that best separates the classes in the input feature space.\n",
    "- The SVM classifer makes predictions on new, unseen data based on this hyperplane"
   ]
  },
  {
   "cell_type": "code",
   "execution_count": 12,
   "id": "ed4eb957-cd6a-4b0c-99b6-c7b9a4ad3540",
   "metadata": {
    "tags": []
   },
   "outputs": [
    {
     "data": {
      "text/html": [
       "<style>#sk-container-id-1 {color: black;}#sk-container-id-1 pre{padding: 0;}#sk-container-id-1 div.sk-toggleable {background-color: white;}#sk-container-id-1 label.sk-toggleable__label {cursor: pointer;display: block;width: 100%;margin-bottom: 0;padding: 0.3em;box-sizing: border-box;text-align: center;}#sk-container-id-1 label.sk-toggleable__label-arrow:before {content: \"▸\";float: left;margin-right: 0.25em;color: #696969;}#sk-container-id-1 label.sk-toggleable__label-arrow:hover:before {color: black;}#sk-container-id-1 div.sk-estimator:hover label.sk-toggleable__label-arrow:before {color: black;}#sk-container-id-1 div.sk-toggleable__content {max-height: 0;max-width: 0;overflow: hidden;text-align: left;background-color: #f0f8ff;}#sk-container-id-1 div.sk-toggleable__content pre {margin: 0.2em;color: black;border-radius: 0.25em;background-color: #f0f8ff;}#sk-container-id-1 input.sk-toggleable__control:checked~div.sk-toggleable__content {max-height: 200px;max-width: 100%;overflow: auto;}#sk-container-id-1 input.sk-toggleable__control:checked~label.sk-toggleable__label-arrow:before {content: \"▾\";}#sk-container-id-1 div.sk-estimator input.sk-toggleable__control:checked~label.sk-toggleable__label {background-color: #d4ebff;}#sk-container-id-1 div.sk-label input.sk-toggleable__control:checked~label.sk-toggleable__label {background-color: #d4ebff;}#sk-container-id-1 input.sk-hidden--visually {border: 0;clip: rect(1px 1px 1px 1px);clip: rect(1px, 1px, 1px, 1px);height: 1px;margin: -1px;overflow: hidden;padding: 0;position: absolute;width: 1px;}#sk-container-id-1 div.sk-estimator {font-family: monospace;background-color: #f0f8ff;border: 1px dotted black;border-radius: 0.25em;box-sizing: border-box;margin-bottom: 0.5em;}#sk-container-id-1 div.sk-estimator:hover {background-color: #d4ebff;}#sk-container-id-1 div.sk-parallel-item::after {content: \"\";width: 100%;border-bottom: 1px solid gray;flex-grow: 1;}#sk-container-id-1 div.sk-label:hover label.sk-toggleable__label {background-color: #d4ebff;}#sk-container-id-1 div.sk-serial::before {content: \"\";position: absolute;border-left: 1px solid gray;box-sizing: border-box;top: 0;bottom: 0;left: 50%;z-index: 0;}#sk-container-id-1 div.sk-serial {display: flex;flex-direction: column;align-items: center;background-color: white;padding-right: 0.2em;padding-left: 0.2em;position: relative;}#sk-container-id-1 div.sk-item {position: relative;z-index: 1;}#sk-container-id-1 div.sk-parallel {display: flex;align-items: stretch;justify-content: center;background-color: white;position: relative;}#sk-container-id-1 div.sk-item::before, #sk-container-id-1 div.sk-parallel-item::before {content: \"\";position: absolute;border-left: 1px solid gray;box-sizing: border-box;top: 0;bottom: 0;left: 50%;z-index: -1;}#sk-container-id-1 div.sk-parallel-item {display: flex;flex-direction: column;z-index: 1;position: relative;background-color: white;}#sk-container-id-1 div.sk-parallel-item:first-child::after {align-self: flex-end;width: 50%;}#sk-container-id-1 div.sk-parallel-item:last-child::after {align-self: flex-start;width: 50%;}#sk-container-id-1 div.sk-parallel-item:only-child::after {width: 0;}#sk-container-id-1 div.sk-dashed-wrapped {border: 1px dashed gray;margin: 0 0.4em 0.5em 0.4em;box-sizing: border-box;padding-bottom: 0.4em;background-color: white;}#sk-container-id-1 div.sk-label label {font-family: monospace;font-weight: bold;display: inline-block;line-height: 1.2em;}#sk-container-id-1 div.sk-label-container {text-align: center;}#sk-container-id-1 div.sk-container {/* jupyter's `normalize.less` sets `[hidden] { display: none; }` but bootstrap.min.css set `[hidden] { display: none !important; }` so we also need the `!important` here to be able to override the default hidden behavior on the sphinx rendered scikit-learn.org. See: https://github.com/scikit-learn/scikit-learn/issues/21755 */display: inline-block !important;position: relative;}#sk-container-id-1 div.sk-text-repr-fallback {display: none;}</style><div id=\"sk-container-id-1\" class=\"sk-top-container\"><div class=\"sk-text-repr-fallback\"><pre>SVC(kernel=&#x27;linear&#x27;)</pre><b>In a Jupyter environment, please rerun this cell to show the HTML representation or trust the notebook. <br />On GitHub, the HTML representation is unable to render, please try loading this page with nbviewer.org.</b></div><div class=\"sk-container\" hidden><div class=\"sk-item\"><div class=\"sk-estimator sk-toggleable\"><input class=\"sk-toggleable__control sk-hidden--visually\" id=\"sk-estimator-id-1\" type=\"checkbox\" checked><label for=\"sk-estimator-id-1\" class=\"sk-toggleable__label sk-toggleable__label-arrow\">SVC</label><div class=\"sk-toggleable__content\"><pre>SVC(kernel=&#x27;linear&#x27;)</pre></div></div></div></div></div>"
      ],
      "text/plain": [
       "SVC(kernel='linear')"
      ]
     },
     "execution_count": 12,
     "metadata": {},
     "output_type": "execute_result"
    }
   ],
   "source": [
    "classifier = SVC(kernel='linear')\n",
    "classifier.fit(X_train_quantum, y_train)"
   ]
  },
  {
   "cell_type": "markdown",
   "id": "5db15095-ea7d-457b-88cd-e73fe7792223",
   "metadata": {},
   "source": [
    "# Print accuracy of classification"
   ]
  },
  {
   "cell_type": "code",
   "execution_count": 13,
   "id": "41c038ae-a5a9-4ef0-8270-b911bb18c72c",
   "metadata": {
    "tags": []
   },
   "outputs": [
    {
     "name": "stdout",
     "output_type": "stream",
     "text": [
      "Accuracy: 80.00%\n"
     ]
    }
   ],
   "source": [
    "accuracy = classifier.score(X_test_quantum, y_test)\n",
    "print(f\"Accuracy: {accuracy*100:.2f}%\")"
   ]
  },
  {
   "cell_type": "markdown",
   "id": "85104016-8a5e-4b50-b074-b17066954b4b",
   "metadata": {},
   "source": [
    "# Plot decision boundary"
   ]
  },
  {
   "cell_type": "code",
   "execution_count": 14,
   "id": "32ab43ca-38c2-4235-8655-58248e46961b",
   "metadata": {
    "tags": []
   },
   "outputs": [
    {
     "name": "stderr",
     "output_type": "stream",
     "text": [
      "No artists with labels found to put in legend.  Note that artists whose label start with an underscore are ignored when legend() is called with no argument.\n"
     ]
    },
    {
     "data": {
      "image/png": "[encoded data removed]",
      "text/plain": [
       "<Figure size 640x480 with 1 Axes>"
      ]
     },
     "metadata": {},
     "output_type": "display_data"
    }
   ],
   "source": [
    "xx, yy = np.meshgrid(np.arange(-2, 2, 0.5), np.arange(-2, 2, 0.5))\n",
    "Z = classifier.predict(np.array([quantum_feature_map(x) for x in np.c_[xx.ravel(), yy.ravel()]]))\n",
    "Z = Z.reshape(xx.shape)\n",
    "plt.contourf(xx, yy, Z, alpha=0.4)\n",
    "plt.scatter(X_test_std[:, 0], X_test_std[:, 1], c=y_test, marker='o')\n",
    "plt.xlabel('Feature 1')\n",
    "plt.ylabel('Feature 2')\n",
    "plt.title('Decision Boundary of Hybrid Quantum-Classical Model')\n",
    "plt.show()"
   ]
  },
  {
   "cell_type": "code",
   "execution_count": null,
   "id": "68a85c81-b457-47f0-bad9-f4937f1cb935",
   "metadata": {},
   "outputs": [],
   "source": []
  }
 ],
 "metadata": {
  "kernelspec": {
   "display_name": "conda_braket",
   "language": "python",
   "name": "conda_braket"
  },
  "language_info": {
   "codemirror_mode": {
    "name": "ipython",
    "version": 3
   },
   "file_extension": ".py",
   "mimetype": "text/x-python",
   "name": "python",
   "nbconvert_exporter": "python",
   "pygments_lexer": "ipython3",
   "version": "3.10.12"
  }
 },
 "nbformat": 4,
 "nbformat_minor": 5
}
