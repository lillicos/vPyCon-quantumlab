{
 "cells": [
  {
   "cell_type": "markdown",
   "id": "2eeecf14-d2e9-4844-858c-bb5ff58e91e5",
   "metadata": {},
   "source": [
    "# Example 2: Creating a Normal Probability Distribution "
   ]
  },
  {
   "cell_type": "markdown",
   "id": "fdd1da79-ab40-4664-8556-c6a86d98446b",
   "metadata": {},
   "source": [
    "# Installing the necessary libraries"
   ]
  },
  {
   "cell_type": "code",
   "execution_count": 8,
   "id": "7519a1c0-c09c-455f-b8c8-89906b04d782",
   "metadata": {
    "tags": []
   },
   "outputs": [
    {
     "name": "stdout",
     "output_type": "stream",
     "text": [
      "Requirement already satisfied: amazon-braket-sdk in /home/ec2-user/anaconda3/envs/Braket/lib/python3.10/site-packages (1.58.1)\n",
      "Requirement already satisfied: amazon-braket-schemas>=1.19.1 in /home/ec2-user/anaconda3/envs/Braket/lib/python3.10/site-packages (from amazon-braket-sdk) (1.19.1.post0)\n",
      "Requirement already satisfied: amazon-braket-default-simulator>=1.19.1 in /home/ec2-user/anaconda3/envs/Braket/lib/python3.10/site-packages (from amazon-braket-sdk) (1.20.1)\n",
      "Requirement already satisfied: oqpy~=0.2.1 in /home/ec2-user/anaconda3/envs/Braket/lib/python3.10/site-packages (from amazon-braket-sdk) (0.2.1)\n",
      "Requirement already satisfied: setuptools in /home/ec2-user/anaconda3/envs/Braket/lib/python3.10/site-packages (from amazon-braket-sdk) (68.2.2)\n",
      "Requirement already satisfied: backoff in /home/ec2-user/anaconda3/envs/Braket/lib/python3.10/site-packages (from amazon-braket-sdk) (2.2.1)\n",
      "Requirement already satisfied: boltons in /home/ec2-user/anaconda3/envs/Braket/lib/python3.10/site-packages (from amazon-braket-sdk) (23.0.0)\n",
      "Requirement already satisfied: boto3>=1.28.53 in /home/ec2-user/anaconda3/envs/Braket/lib/python3.10/site-packages (from amazon-braket-sdk) (1.28.62)\n",
      "Requirement already satisfied: cloudpickle==2.2.1 in /home/ec2-user/anaconda3/envs/Braket/lib/python3.10/site-packages (from amazon-braket-sdk) (2.2.1)\n",
      "Requirement already satisfied: nest-asyncio in /home/ec2-user/anaconda3/envs/Braket/lib/python3.10/site-packages (from amazon-braket-sdk) (1.5.8)\n",
      "Requirement already satisfied: networkx in /home/ec2-user/anaconda3/envs/Braket/lib/python3.10/site-packages (from amazon-braket-sdk) (2.8.8)\n",
      "Requirement already satisfied: numpy in /home/ec2-user/anaconda3/envs/Braket/lib/python3.10/site-packages (from amazon-braket-sdk) (1.23.5)\n",
      "Requirement already satisfied: openpulse in /home/ec2-user/anaconda3/envs/Braket/lib/python3.10/site-packages (from amazon-braket-sdk) (0.4.2)\n",
      "Requirement already satisfied: openqasm3 in /home/ec2-user/anaconda3/envs/Braket/lib/python3.10/site-packages (from amazon-braket-sdk) (0.4.0)\n",
      "Requirement already satisfied: sympy in /home/ec2-user/anaconda3/envs/Braket/lib/python3.10/site-packages (from amazon-braket-sdk) (1.12)\n",
      "Requirement already satisfied: opt-einsum in /home/ec2-user/anaconda3/envs/Braket/lib/python3.10/site-packages (from amazon-braket-default-simulator>=1.19.1->amazon-braket-sdk) (3.3.0)\n",
      "Requirement already satisfied: pydantic<2.0,>=1.9 in /home/ec2-user/anaconda3/envs/Braket/lib/python3.10/site-packages (from amazon-braket-default-simulator>=1.19.1->amazon-braket-sdk) (1.10.13)\n",
      "Requirement already satisfied: scipy in /home/ec2-user/anaconda3/envs/Braket/lib/python3.10/site-packages (from amazon-braket-default-simulator>=1.19.1->amazon-braket-sdk) (1.11.3)\n",
      "Requirement already satisfied: antlr4-python3-runtime==4.9.2 in /home/ec2-user/anaconda3/envs/Braket/lib/python3.10/site-packages (from amazon-braket-default-simulator>=1.19.1->amazon-braket-sdk) (4.9.2)\n",
      "Requirement already satisfied: botocore<1.32.0,>=1.31.62 in /home/ec2-user/anaconda3/envs/Braket/lib/python3.10/site-packages (from boto3>=1.28.53->amazon-braket-sdk) (1.31.62)\n",
      "Requirement already satisfied: jmespath<2.0.0,>=0.7.1 in /home/ec2-user/anaconda3/envs/Braket/lib/python3.10/site-packages (from boto3>=1.28.53->amazon-braket-sdk) (1.0.1)\n",
      "Requirement already satisfied: s3transfer<0.8.0,>=0.7.0 in /home/ec2-user/anaconda3/envs/Braket/lib/python3.10/site-packages (from boto3>=1.28.53->amazon-braket-sdk) (0.7.0)\n",
      "Requirement already satisfied: mypy-extensions>=0.2.0 in /home/ec2-user/anaconda3/envs/Braket/lib/python3.10/site-packages (from oqpy~=0.2.1->amazon-braket-sdk) (1.0.0)\n",
      "Requirement already satisfied: mpmath>=0.19 in /home/ec2-user/anaconda3/envs/Braket/lib/python3.10/site-packages (from sympy->amazon-braket-sdk) (1.3.0)\n",
      "Requirement already satisfied: python-dateutil<3.0.0,>=2.1 in /home/ec2-user/anaconda3/envs/Braket/lib/python3.10/site-packages (from botocore<1.32.0,>=1.31.62->boto3>=1.28.53->amazon-braket-sdk) (2.8.2)\n",
      "Requirement already satisfied: urllib3<2.1,>=1.25.4 in /home/ec2-user/anaconda3/envs/Braket/lib/python3.10/site-packages (from botocore<1.32.0,>=1.31.62->boto3>=1.28.53->amazon-braket-sdk) (2.0.7)\n",
      "Requirement already satisfied: typing-extensions>=4.2.0 in /home/ec2-user/anaconda3/envs/Braket/lib/python3.10/site-packages (from pydantic<2.0,>=1.9->amazon-braket-default-simulator>=1.19.1->amazon-braket-sdk) (4.8.0)\n",
      "Requirement already satisfied: six>=1.5 in /home/ec2-user/anaconda3/envs/Braket/lib/python3.10/site-packages (from python-dateutil<3.0.0,>=2.1->botocore<1.32.0,>=1.31.62->boto3>=1.28.53->amazon-braket-sdk) (1.16.0)\n",
      "Note: you may need to restart the kernel to use updated packages.\n"
     ]
    }
   ],
   "source": [
    "pip install amazon-braket-sdk"
   ]
  },
  {
   "cell_type": "code",
   "execution_count": 12,
   "id": "3255e8ef-37be-4b29-8aa2-70c4807da8cd",
   "metadata": {
    "tags": []
   },
   "outputs": [],
   "source": [
    "import matplotlib.pyplot as plt\n",
    "import numpy as np\n",
    "from braket.circuits import Circuit\n",
    "from braket.aws import AwsDevice\n",
    "import math"
   ]
  },
  {
   "cell_type": "markdown",
   "id": "0a8c60ce-9db0-4d21-a5c4-6ff9f9f4c3d9",
   "metadata": {},
   "source": [
    "# AWS Braket setup"
   ]
  },
  {
   "cell_type": "code",
   "execution_count": 13,
   "id": "8a226f5d-f491-4a7c-8bd8-6f1c4d3f8bf2",
   "metadata": {
    "tags": []
   },
   "outputs": [],
   "source": [
    "device_arn = \"arn:aws:braket:::device/quantum-simulator/amazon/sv1\""
   ]
  },
  {
   "cell_type": "markdown",
   "id": "7eed40ff-7611-4607-b27d-61d6d715348c",
   "metadata": {},
   "source": [
    "# Create a circuit to generate random numbers"
   ]
  },
  {
   "cell_type": "code",
   "execution_count": 14,
   "id": "c6a956c0-ea05-402f-900c-ddb01b77c81b",
   "metadata": {
    "tags": []
   },
   "outputs": [],
   "source": [
    "# Number of qubits\n",
    "n_qubits = 5\n",
    "# Number of samples\n",
    "n_samples = 1000 \n",
    "# Apply Hadamard gate to all qubits\n",
    "circuit = Circuit().h(range(n_qubits))  "
   ]
  },
  {
   "cell_type": "markdown",
   "id": "788bc721-1910-4f90-84cc-0617dfbff305",
   "metadata": {},
   "source": [
    "# Run the circuit\n"
   ]
  },
  {
   "cell_type": "code",
   "execution_count": 15,
   "id": "7f3baa8b-f44f-467e-aa1c-120c6bc99f31",
   "metadata": {
    "tags": []
   },
   "outputs": [],
   "source": [
    "device = AwsDevice(device_arn)\n",
    "task = device.run(circuit, shots=n_samples)\n",
    "result = task.result()"
   ]
  },
  {
   "cell_type": "markdown",
   "id": "a112b5a3-d096-40bf-b7c8-d3e97348d6cf",
   "metadata": {},
   "source": [
    "# Extract random numbers from the quantum circuit output"
   ]
  },
  {
   "cell_type": "code",
   "execution_count": 16,
   "id": "8b1fba09-ed0a-42a2-89bf-a1cb9f54519c",
   "metadata": {
    "tags": []
   },
   "outputs": [],
   "source": [
    "bitstrings = result.measurements\n",
    "random_numbers = [int(''.join(map(str, bits)), 2) for bits in bitstrings]"
   ]
  },
  {
   "cell_type": "markdown",
   "id": "4c803699-786d-471a-875d-2b716d012b7e",
   "metadata": {
    "tags": []
   },
   "source": [
    "# Apply Box-Muller transformation to get a normal distribution"
   ]
  },
  {
   "cell_type": "code",
   "execution_count": 19,
   "id": "c3928608-e411-46ce-aa53-3f88fc4d7b7a",
   "metadata": {
    "tags": []
   },
   "outputs": [
    {
     "name": "stderr",
     "output_type": "stream",
     "text": [
      "/tmp/ipykernel_28034/3981547595.py:4: RuntimeWarning: divide by zero encountered in log\n",
      "  z0 = np.sqrt(-2 * np.log(u1)) * np.cos(2 * np.pi * u2)\n",
      "/tmp/ipykernel_28034/3981547595.py:5: RuntimeWarning: divide by zero encountered in log\n",
      "  z1 = np.sqrt(-2 * np.log(u1)) * np.sin(2 * np.pi * u2)\n"
     ]
    }
   ],
   "source": [
    "u1 = [x / (2**n_qubits - 1) for x in random_numbers]\n",
    "u2 = np.random.uniform(0, 1, n_samples) \n",
    "# Generate additional random numbers for the transformation\n",
    "z0 = np.sqrt(-2 * np.log(u1)) * np.cos(2 * np.pi * u2)\n",
    "z1 = np.sqrt(-2 * np.log(u1)) * np.sin(2 * np.pi * u2)"
   ]
  },
  {
   "cell_type": "markdown",
   "id": "e2495ff3-f4b0-4b9f-bbbe-01183dd589a2",
   "metadata": {},
   "source": [
    "# Plot the histogram of the normal distribution\n"
   ]
  },
  {
   "cell_type": "code",
   "execution_count": 20,
   "id": "0cffb55f-e3eb-4448-a9fb-914698e67e7b",
   "metadata": {
    "tags": []
   },
   "outputs": [
    {
     "ename": "ValueError",
     "evalue": "supplied range of [-inf, inf] is not finite",
     "output_type": "error",
     "traceback": [
      "\u001b[0;31m---------------------------------------------------------------------------\u001b[0m",
      "\u001b[0;31mValueError\u001b[0m                                Traceback (most recent call last)",
      "Cell \u001b[0;32mIn[20], line 1\u001b[0m\n\u001b[0;32m----> 1\u001b[0m \u001b[43mplt\u001b[49m\u001b[38;5;241;43m.\u001b[39;49m\u001b[43mhist\u001b[49m\u001b[43m(\u001b[49m\u001b[43mz0\u001b[49m\u001b[43m,\u001b[49m\u001b[43m \u001b[49m\u001b[43mbins\u001b[49m\u001b[38;5;241;43m=\u001b[39;49m\u001b[38;5;241;43m50\u001b[39;49m\u001b[43m,\u001b[49m\u001b[43m \u001b[49m\u001b[43mdensity\u001b[49m\u001b[38;5;241;43m=\u001b[39;49m\u001b[38;5;28;43;01mTrue\u001b[39;49;00m\u001b[43m,\u001b[49m\u001b[43m \u001b[49m\u001b[43malpha\u001b[49m\u001b[38;5;241;43m=\u001b[39;49m\u001b[38;5;241;43m0.6\u001b[39;49m\u001b[43m,\u001b[49m\u001b[43m \u001b[49m\u001b[43mcolor\u001b[49m\u001b[38;5;241;43m=\u001b[39;49m\u001b[38;5;124;43m'\u001b[39;49m\u001b[38;5;124;43mg\u001b[39;49m\u001b[38;5;124;43m'\u001b[39;49m\u001b[43m)\u001b[49m\n\u001b[1;32m      2\u001b[0m plt\u001b[38;5;241m.\u001b[39mtitle(\u001b[38;5;124m'\u001b[39m\u001b[38;5;124mNormal Probability Distribution using AWS Braket\u001b[39m\u001b[38;5;124m'\u001b[39m)\n\u001b[1;32m      3\u001b[0m plt\u001b[38;5;241m.\u001b[39mxlabel(\u001b[38;5;124m'\u001b[39m\u001b[38;5;124mValue\u001b[39m\u001b[38;5;124m'\u001b[39m)\n",
      "File \u001b[0;32m~/anaconda3/envs/Braket/lib/python3.10/site-packages/matplotlib/pyplot.py:3224\u001b[0m, in \u001b[0;36mhist\u001b[0;34m(x, bins, range, density, weights, cumulative, bottom, histtype, align, orientation, rwidth, log, color, label, stacked, data, **kwargs)\u001b[0m\n\u001b[1;32m   3199\u001b[0m \u001b[38;5;129m@_copy_docstring_and_deprecators\u001b[39m(Axes\u001b[38;5;241m.\u001b[39mhist)\n\u001b[1;32m   3200\u001b[0m \u001b[38;5;28;01mdef\u001b[39;00m \u001b[38;5;21mhist\u001b[39m(\n\u001b[1;32m   3201\u001b[0m     x: ArrayLike \u001b[38;5;241m|\u001b[39m Sequence[ArrayLike],\n\u001b[0;32m   (...)\u001b[0m\n\u001b[1;32m   3222\u001b[0m     BarContainer \u001b[38;5;241m|\u001b[39m Polygon \u001b[38;5;241m|\u001b[39m \u001b[38;5;28mlist\u001b[39m[BarContainer \u001b[38;5;241m|\u001b[39m Polygon],\n\u001b[1;32m   3223\u001b[0m ]:\n\u001b[0;32m-> 3224\u001b[0m     \u001b[38;5;28;01mreturn\u001b[39;00m \u001b[43mgca\u001b[49m\u001b[43m(\u001b[49m\u001b[43m)\u001b[49m\u001b[38;5;241;43m.\u001b[39;49m\u001b[43mhist\u001b[49m\u001b[43m(\u001b[49m\n\u001b[1;32m   3225\u001b[0m \u001b[43m        \u001b[49m\u001b[43mx\u001b[49m\u001b[43m,\u001b[49m\n\u001b[1;32m   3226\u001b[0m \u001b[43m        \u001b[49m\u001b[43mbins\u001b[49m\u001b[38;5;241;43m=\u001b[39;49m\u001b[43mbins\u001b[49m\u001b[43m,\u001b[49m\n\u001b[1;32m   3227\u001b[0m \u001b[43m        \u001b[49m\u001b[38;5;28;43mrange\u001b[39;49m\u001b[38;5;241;43m=\u001b[39;49m\u001b[38;5;28;43mrange\u001b[39;49m\u001b[43m,\u001b[49m\n\u001b[1;32m   3228\u001b[0m \u001b[43m        \u001b[49m\u001b[43mdensity\u001b[49m\u001b[38;5;241;43m=\u001b[39;49m\u001b[43mdensity\u001b[49m\u001b[43m,\u001b[49m\n\u001b[1;32m   3229\u001b[0m \u001b[43m        \u001b[49m\u001b[43mweights\u001b[49m\u001b[38;5;241;43m=\u001b[39;49m\u001b[43mweights\u001b[49m\u001b[43m,\u001b[49m\n\u001b[1;32m   3230\u001b[0m \u001b[43m        \u001b[49m\u001b[43mcumulative\u001b[49m\u001b[38;5;241;43m=\u001b[39;49m\u001b[43mcumulative\u001b[49m\u001b[43m,\u001b[49m\n\u001b[1;32m   3231\u001b[0m \u001b[43m        \u001b[49m\u001b[43mbottom\u001b[49m\u001b[38;5;241;43m=\u001b[39;49m\u001b[43mbottom\u001b[49m\u001b[43m,\u001b[49m\n\u001b[1;32m   3232\u001b[0m \u001b[43m        \u001b[49m\u001b[43mhisttype\u001b[49m\u001b[38;5;241;43m=\u001b[39;49m\u001b[43mhisttype\u001b[49m\u001b[43m,\u001b[49m\n\u001b[1;32m   3233\u001b[0m \u001b[43m        \u001b[49m\u001b[43malign\u001b[49m\u001b[38;5;241;43m=\u001b[39;49m\u001b[43malign\u001b[49m\u001b[43m,\u001b[49m\n\u001b[1;32m   3234\u001b[0m \u001b[43m        \u001b[49m\u001b[43morientation\u001b[49m\u001b[38;5;241;43m=\u001b[39;49m\u001b[43morientation\u001b[49m\u001b[43m,\u001b[49m\n\u001b[1;32m   3235\u001b[0m \u001b[43m        \u001b[49m\u001b[43mrwidth\u001b[49m\u001b[38;5;241;43m=\u001b[39;49m\u001b[43mrwidth\u001b[49m\u001b[43m,\u001b[49m\n\u001b[1;32m   3236\u001b[0m \u001b[43m        \u001b[49m\u001b[43mlog\u001b[49m\u001b[38;5;241;43m=\u001b[39;49m\u001b[43mlog\u001b[49m\u001b[43m,\u001b[49m\n\u001b[1;32m   3237\u001b[0m \u001b[43m        \u001b[49m\u001b[43mcolor\u001b[49m\u001b[38;5;241;43m=\u001b[39;49m\u001b[43mcolor\u001b[49m\u001b[43m,\u001b[49m\n\u001b[1;32m   3238\u001b[0m \u001b[43m        \u001b[49m\u001b[43mlabel\u001b[49m\u001b[38;5;241;43m=\u001b[39;49m\u001b[43mlabel\u001b[49m\u001b[43m,\u001b[49m\n\u001b[1;32m   3239\u001b[0m \u001b[43m        \u001b[49m\u001b[43mstacked\u001b[49m\u001b[38;5;241;43m=\u001b[39;49m\u001b[43mstacked\u001b[49m\u001b[43m,\u001b[49m\n\u001b[1;32m   3240\u001b[0m \u001b[43m        \u001b[49m\u001b[38;5;241;43m*\u001b[39;49m\u001b[38;5;241;43m*\u001b[39;49m\u001b[43m(\u001b[49m\u001b[43m{\u001b[49m\u001b[38;5;124;43m\"\u001b[39;49m\u001b[38;5;124;43mdata\u001b[39;49m\u001b[38;5;124;43m\"\u001b[39;49m\u001b[43m:\u001b[49m\u001b[43m \u001b[49m\u001b[43mdata\u001b[49m\u001b[43m}\u001b[49m\u001b[43m \u001b[49m\u001b[38;5;28;43;01mif\u001b[39;49;00m\u001b[43m \u001b[49m\u001b[43mdata\u001b[49m\u001b[43m \u001b[49m\u001b[38;5;129;43;01mis\u001b[39;49;00m\u001b[43m \u001b[49m\u001b[38;5;129;43;01mnot\u001b[39;49;00m\u001b[43m \u001b[49m\u001b[38;5;28;43;01mNone\u001b[39;49;00m\u001b[43m \u001b[49m\u001b[38;5;28;43;01melse\u001b[39;49;00m\u001b[43m \u001b[49m\u001b[43m{\u001b[49m\u001b[43m}\u001b[49m\u001b[43m)\u001b[49m\u001b[43m,\u001b[49m\n\u001b[1;32m   3241\u001b[0m \u001b[43m        \u001b[49m\u001b[38;5;241;43m*\u001b[39;49m\u001b[38;5;241;43m*\u001b[39;49m\u001b[43mkwargs\u001b[49m\u001b[43m,\u001b[49m\n\u001b[1;32m   3242\u001b[0m \u001b[43m    \u001b[49m\u001b[43m)\u001b[49m\n",
      "File \u001b[0;32m~/anaconda3/envs/Braket/lib/python3.10/site-packages/matplotlib/__init__.py:1465\u001b[0m, in \u001b[0;36m_preprocess_data.<locals>.inner\u001b[0;34m(ax, data, *args, **kwargs)\u001b[0m\n\u001b[1;32m   1462\u001b[0m \u001b[38;5;129m@functools\u001b[39m\u001b[38;5;241m.\u001b[39mwraps(func)\n\u001b[1;32m   1463\u001b[0m \u001b[38;5;28;01mdef\u001b[39;00m \u001b[38;5;21minner\u001b[39m(ax, \u001b[38;5;241m*\u001b[39margs, data\u001b[38;5;241m=\u001b[39m\u001b[38;5;28;01mNone\u001b[39;00m, \u001b[38;5;241m*\u001b[39m\u001b[38;5;241m*\u001b[39mkwargs):\n\u001b[1;32m   1464\u001b[0m     \u001b[38;5;28;01mif\u001b[39;00m data \u001b[38;5;129;01mis\u001b[39;00m \u001b[38;5;28;01mNone\u001b[39;00m:\n\u001b[0;32m-> 1465\u001b[0m         \u001b[38;5;28;01mreturn\u001b[39;00m \u001b[43mfunc\u001b[49m\u001b[43m(\u001b[49m\u001b[43max\u001b[49m\u001b[43m,\u001b[49m\u001b[43m \u001b[49m\u001b[38;5;241;43m*\u001b[39;49m\u001b[38;5;28;43mmap\u001b[39;49m\u001b[43m(\u001b[49m\u001b[43msanitize_sequence\u001b[49m\u001b[43m,\u001b[49m\u001b[43m \u001b[49m\u001b[43margs\u001b[49m\u001b[43m)\u001b[49m\u001b[43m,\u001b[49m\u001b[43m \u001b[49m\u001b[38;5;241;43m*\u001b[39;49m\u001b[38;5;241;43m*\u001b[39;49m\u001b[43mkwargs\u001b[49m\u001b[43m)\u001b[49m\n\u001b[1;32m   1467\u001b[0m     bound \u001b[38;5;241m=\u001b[39m new_sig\u001b[38;5;241m.\u001b[39mbind(ax, \u001b[38;5;241m*\u001b[39margs, \u001b[38;5;241m*\u001b[39m\u001b[38;5;241m*\u001b[39mkwargs)\n\u001b[1;32m   1468\u001b[0m     auto_label \u001b[38;5;241m=\u001b[39m (bound\u001b[38;5;241m.\u001b[39marguments\u001b[38;5;241m.\u001b[39mget(label_namer)\n\u001b[1;32m   1469\u001b[0m                   \u001b[38;5;129;01mor\u001b[39;00m bound\u001b[38;5;241m.\u001b[39mkwargs\u001b[38;5;241m.\u001b[39mget(label_namer))\n",
      "File \u001b[0;32m~/anaconda3/envs/Braket/lib/python3.10/site-packages/matplotlib/axes/_axes.py:6854\u001b[0m, in \u001b[0;36mAxes.hist\u001b[0;34m(self, x, bins, range, density, weights, cumulative, bottom, histtype, align, orientation, rwidth, log, color, label, stacked, **kwargs)\u001b[0m\n\u001b[1;32m   6850\u001b[0m \u001b[38;5;66;03m# Loop through datasets\u001b[39;00m\n\u001b[1;32m   6851\u001b[0m \u001b[38;5;28;01mfor\u001b[39;00m i \u001b[38;5;129;01min\u001b[39;00m \u001b[38;5;28mrange\u001b[39m(nx):\n\u001b[1;32m   6852\u001b[0m     \u001b[38;5;66;03m# this will automatically overwrite bins,\u001b[39;00m\n\u001b[1;32m   6853\u001b[0m     \u001b[38;5;66;03m# so that each histogram uses the same bins\u001b[39;00m\n\u001b[0;32m-> 6854\u001b[0m     m, bins \u001b[38;5;241m=\u001b[39m \u001b[43mnp\u001b[49m\u001b[38;5;241;43m.\u001b[39;49m\u001b[43mhistogram\u001b[49m\u001b[43m(\u001b[49m\u001b[43mx\u001b[49m\u001b[43m[\u001b[49m\u001b[43mi\u001b[49m\u001b[43m]\u001b[49m\u001b[43m,\u001b[49m\u001b[43m \u001b[49m\u001b[43mbins\u001b[49m\u001b[43m,\u001b[49m\u001b[43m \u001b[49m\u001b[43mweights\u001b[49m\u001b[38;5;241;43m=\u001b[39;49m\u001b[43mw\u001b[49m\u001b[43m[\u001b[49m\u001b[43mi\u001b[49m\u001b[43m]\u001b[49m\u001b[43m,\u001b[49m\u001b[43m \u001b[49m\u001b[38;5;241;43m*\u001b[39;49m\u001b[38;5;241;43m*\u001b[39;49m\u001b[43mhist_kwargs\u001b[49m\u001b[43m)\u001b[49m\n\u001b[1;32m   6855\u001b[0m     tops\u001b[38;5;241m.\u001b[39mappend(m)\n\u001b[1;32m   6856\u001b[0m tops \u001b[38;5;241m=\u001b[39m np\u001b[38;5;241m.\u001b[39marray(tops, \u001b[38;5;28mfloat\u001b[39m)  \u001b[38;5;66;03m# causes problems later if it's an int\u001b[39;00m\n",
      "File \u001b[0;32m<__array_function__ internals>:180\u001b[0m, in \u001b[0;36mhistogram\u001b[0;34m(*args, **kwargs)\u001b[0m\n",
      "File \u001b[0;32m~/anaconda3/envs/Braket/lib/python3.10/site-packages/numpy/lib/histograms.py:793\u001b[0m, in \u001b[0;36mhistogram\u001b[0;34m(a, bins, range, normed, weights, density)\u001b[0m\n\u001b[1;32m    681\u001b[0m \u001b[38;5;250m\u001b[39m\u001b[38;5;124mr\u001b[39m\u001b[38;5;124;03m\"\"\"\u001b[39;00m\n\u001b[1;32m    682\u001b[0m \u001b[38;5;124;03mCompute the histogram of a dataset.\u001b[39;00m\n\u001b[1;32m    683\u001b[0m \n\u001b[0;32m   (...)\u001b[0m\n\u001b[1;32m    789\u001b[0m \n\u001b[1;32m    790\u001b[0m \u001b[38;5;124;03m\"\"\"\u001b[39;00m\n\u001b[1;32m    791\u001b[0m a, weights \u001b[38;5;241m=\u001b[39m _ravel_and_check_weights(a, weights)\n\u001b[0;32m--> 793\u001b[0m bin_edges, uniform_bins \u001b[38;5;241m=\u001b[39m \u001b[43m_get_bin_edges\u001b[49m\u001b[43m(\u001b[49m\u001b[43ma\u001b[49m\u001b[43m,\u001b[49m\u001b[43m \u001b[49m\u001b[43mbins\u001b[49m\u001b[43m,\u001b[49m\u001b[43m \u001b[49m\u001b[38;5;28;43mrange\u001b[39;49m\u001b[43m,\u001b[49m\u001b[43m \u001b[49m\u001b[43mweights\u001b[49m\u001b[43m)\u001b[49m\n\u001b[1;32m    795\u001b[0m \u001b[38;5;66;03m# Histogram is an integer or a float array depending on the weights.\u001b[39;00m\n\u001b[1;32m    796\u001b[0m \u001b[38;5;28;01mif\u001b[39;00m weights \u001b[38;5;129;01mis\u001b[39;00m \u001b[38;5;28;01mNone\u001b[39;00m:\n",
      "File \u001b[0;32m~/anaconda3/envs/Braket/lib/python3.10/site-packages/numpy/lib/histograms.py:426\u001b[0m, in \u001b[0;36m_get_bin_edges\u001b[0;34m(a, bins, range, weights)\u001b[0m\n\u001b[1;32m    423\u001b[0m     \u001b[38;5;28;01mif\u001b[39;00m n_equal_bins \u001b[38;5;241m<\u001b[39m \u001b[38;5;241m1\u001b[39m:\n\u001b[1;32m    424\u001b[0m         \u001b[38;5;28;01mraise\u001b[39;00m \u001b[38;5;167;01mValueError\u001b[39;00m(\u001b[38;5;124m'\u001b[39m\u001b[38;5;124m`bins` must be positive, when an integer\u001b[39m\u001b[38;5;124m'\u001b[39m)\n\u001b[0;32m--> 426\u001b[0m     first_edge, last_edge \u001b[38;5;241m=\u001b[39m \u001b[43m_get_outer_edges\u001b[49m\u001b[43m(\u001b[49m\u001b[43ma\u001b[49m\u001b[43m,\u001b[49m\u001b[43m \u001b[49m\u001b[38;5;28;43mrange\u001b[39;49m\u001b[43m)\u001b[49m\n\u001b[1;32m    428\u001b[0m \u001b[38;5;28;01melif\u001b[39;00m np\u001b[38;5;241m.\u001b[39mndim(bins) \u001b[38;5;241m==\u001b[39m \u001b[38;5;241m1\u001b[39m:\n\u001b[1;32m    429\u001b[0m     bin_edges \u001b[38;5;241m=\u001b[39m np\u001b[38;5;241m.\u001b[39masarray(bins)\n",
      "File \u001b[0;32m~/anaconda3/envs/Braket/lib/python3.10/site-packages/numpy/lib/histograms.py:315\u001b[0m, in \u001b[0;36m_get_outer_edges\u001b[0;34m(a, range)\u001b[0m\n\u001b[1;32m    312\u001b[0m         \u001b[38;5;28;01mraise\u001b[39;00m \u001b[38;5;167;01mValueError\u001b[39;00m(\n\u001b[1;32m    313\u001b[0m             \u001b[38;5;124m'\u001b[39m\u001b[38;5;124mmax must be larger than min in range parameter.\u001b[39m\u001b[38;5;124m'\u001b[39m)\n\u001b[1;32m    314\u001b[0m     \u001b[38;5;28;01mif\u001b[39;00m \u001b[38;5;129;01mnot\u001b[39;00m (np\u001b[38;5;241m.\u001b[39misfinite(first_edge) \u001b[38;5;129;01mand\u001b[39;00m np\u001b[38;5;241m.\u001b[39misfinite(last_edge)):\n\u001b[0;32m--> 315\u001b[0m         \u001b[38;5;28;01mraise\u001b[39;00m \u001b[38;5;167;01mValueError\u001b[39;00m(\n\u001b[1;32m    316\u001b[0m             \u001b[38;5;124m\"\u001b[39m\u001b[38;5;124msupplied range of [\u001b[39m\u001b[38;5;132;01m{}\u001b[39;00m\u001b[38;5;124m, \u001b[39m\u001b[38;5;132;01m{}\u001b[39;00m\u001b[38;5;124m] is not finite\u001b[39m\u001b[38;5;124m\"\u001b[39m\u001b[38;5;241m.\u001b[39mformat(first_edge, last_edge))\n\u001b[1;32m    317\u001b[0m \u001b[38;5;28;01melif\u001b[39;00m a\u001b[38;5;241m.\u001b[39msize \u001b[38;5;241m==\u001b[39m \u001b[38;5;241m0\u001b[39m:\n\u001b[1;32m    318\u001b[0m     \u001b[38;5;66;03m# handle empty arrays. Can't determine range, so use 0-1.\u001b[39;00m\n\u001b[1;32m    319\u001b[0m     first_edge, last_edge \u001b[38;5;241m=\u001b[39m \u001b[38;5;241m0\u001b[39m, \u001b[38;5;241m1\u001b[39m\n",
      "\u001b[0;31mValueError\u001b[0m: supplied range of [-inf, inf] is not finite"
     ]
    },
    {
     "data": {
      "image/png": "[encoded data removed]",
      "text/plain": [
       "<Figure size 640x480 with 1 Axes>"
      ]
     },
     "metadata": {},
     "output_type": "display_data"
    }
   ],
   "source": [
    "plt.hist(z0, bins=50, density=True, alpha=0.6, color='g')\n",
    "plt.title('Normal Probability Distribution using AWS Braket')\n",
    "plt.xlabel('Value')\n",
    "plt.ylabel('Probability Density')\n",
    "plt.show()"
   ]
  },
  {
   "cell_type": "code",
   "execution_count": null,
   "id": "4a6ba683-a095-460f-a110-94e782fff0f6",
   "metadata": {},
   "outputs": [],
   "source": []
  }
 ],
 "metadata": {
  "kernelspec": {
   "display_name": "conda_braket",
   "language": "python",
   "name": "conda_braket"
  },
  "language_info": {
   "codemirror_mode": {
    "name": "ipython",
    "version": 3
   },
   "file_extension": ".py",
   "mimetype": "text/x-python",
   "name": "python",
   "nbconvert_exporter": "python",
   "pygments_lexer": "ipython3",
   "version": "3.10.12"
  }
 },
 "nbformat": 4,
 "nbformat_minor": 5
}
